{
 "cells": [
  {
   "cell_type": "code",
   "execution_count": 2,
   "metadata": {},
   "outputs": [],
   "source": [
    "import pandas as pd\n",
    "import glob\n",
    "import re\n",
    "import os"
   ]
  },
  {
   "cell_type": "code",
   "execution_count": 3,
   "metadata": {
    "scrolled": true
   },
   "outputs": [],
   "source": [
    "spk = pd.read_excel('../Data/SpeakerCategories.xlsx')\n",
    "\n",
    "utt2spk = []\n",
    "for file in glob.glob('../Data/txt/*.txt'):\n",
    "    filename = []\n",
    "    filename[:] = [x for x in os.path.basename(file).split('_') if x]\n",
    "    filename[2] = filename[2].split(\"ESSWYIN2DA.txt\")[0]\n",
    "    utt2spk.append(filename[0] + \"_\" + filename[1] + \"_\" + filename[2] + \" \" + spk.loc[filename[2]]['Gender'][0] + str(spk.loc[filename[2]]['Speaker']))\n",
    "\n",
    "with open(\"../Data/train/utt2spk.xtx\", \"w\") as f:\n",
    "    for line in utt2spk:\n",
    "        f.write(line + \"\\n\")\n",
    "    "
   ]
  },
  {
   "cell_type": "code",
   "execution_count": null,
   "metadata": {},
   "outputs": [],
   "source": []
  }
 ],
 "metadata": {
  "kernelspec": {
   "display_name": "Python 3",
   "language": "python",
   "name": "python3"
  },
  "language_info": {
   "codemirror_mode": {
    "name": "ipython",
    "version": 3
   },
   "file_extension": ".py",
   "mimetype": "text/x-python",
   "name": "python",
   "nbconvert_exporter": "python",
   "pygments_lexer": "ipython3",
   "version": "3.7.1"
  }
 },
 "nbformat": 4,
 "nbformat_minor": 2
}
