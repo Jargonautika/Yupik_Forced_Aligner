{
 "cells": [
  {
   "cell_type": "code",
   "execution_count": 9,
   "metadata": {},
   "outputs": [],
   "source": [
    "import pandas as pd\n",
    "import glob\n",
    "import re\n",
    "import os\n",
    "from collections import defaultdict"
   ]
  },
  {
   "cell_type": "code",
   "execution_count": 14,
   "metadata": {
    "scrolled": true
   },
   "outputs": [],
   "source": [
    "spk = pd.read_excel('../Data/SpeakerCategories.xlsx')\n",
    "\n",
    "utt2spk = {}\n",
    "spk2utt = defaultdict(list)\n",
    "for file in glob.glob('../Data/txt/*.txt'):\n",
    "    filename = []\n",
    "    filename[:] = [x for x in os.path.basename(file).split('_') if x]\n",
    "    filename[2] = filename[2].split(\"ESSWYIN2DA.txt\")[0]\n",
    "    utt2spk[filename[0] + \"_\" + filename[1] + \"_\" + filename[2]] = (\" \" + spk.loc[filename[2]]['Gender'][0] + str(spk.loc[filename[2]]['Speaker']))\n",
    "    spk2utt[(\" \" + spk.loc[filename[2]]['Gender'][0] + str(spk.loc[filename[2]]['Speaker']))].append(filename[0] + \"_\" + filename[1] + \"_\" + filename[2])\n",
    "    \n",
    "with open(\"../Data/train/utt2spk.txt\", \"w\") as f:\n",
    "    for key in utt2spk.keys():\n",
    "        f.write(key + utt2spk[key] + \"\\n\")\n",
    "\n",
    "\n",
    "with open(\"../Data/train/spk2utt.txt\", \"w\") as f:\n",
    "    for key in spk2utt.keys():\n",
    "        for ch in spk2utt[key]:\n",
    "            f.write(key + \" \" + ch + \"\\n\")\n",
    "    "
   ]
  },
  {
   "cell_type": "code",
   "execution_count": null,
   "metadata": {},
   "outputs": [],
   "source": []
  }
 ],
 "metadata": {
  "kernelspec": {
   "display_name": "Python 3",
   "language": "python",
   "name": "python3"
  },
  "language_info": {
   "codemirror_mode": {
    "name": "ipython",
    "version": 3
   },
   "file_extension": ".py",
   "mimetype": "text/x-python",
   "name": "python",
   "nbconvert_exporter": "python",
   "pygments_lexer": "ipython3",
   "version": "3.7.1"
  }
 },
 "nbformat": 4,
 "nbformat_minor": 2
}
