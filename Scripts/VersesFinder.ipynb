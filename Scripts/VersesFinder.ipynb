{
 "cells": [
  {
   "cell_type": "code",
   "execution_count": 43,
   "metadata": {},
   "outputs": [],
   "source": [
    "import pandas as pd\n",
    "import glob\n",
    "import re"
   ]
  },
  {
   "cell_type": "code",
   "execution_count": 44,
   "metadata": {},
   "outputs": [],
   "source": [
    "df = pd.read_excel('../Data/versesCounts.xlsx')"
   ]
  },
  {
   "cell_type": "code",
   "execution_count": 49,
   "metadata": {
    "scrolled": true
   },
   "outputs": [
    {
     "name": "stdout",
     "output_type": "stream",
     "text": [
      "\t\t\t\t\t\t   Matthew 2    :  9 , 11\n",
      "\t\t\t\t\t\t   Matthew 4    :  14 , 16\n",
      "\t\t\t\t\t\t   Matthew 9    :  20 , 22\n",
      "\t\t\t\t\t\t   Matthew 13   :  31 , 33\n",
      "\t\t\t\t\t\t   Matthew 14   :  3 , 6\n",
      "\t\t\t\t\t\t   Matthew 15   :  5 , 7\n",
      "\t\t\t\t\t\t   Matthew 27   :  9 , 11\n",
      "\t\t\t\t\t\t   Mark 1       :  43 , 45\n",
      "\t\t\t\t\t\t   Mark 3       :  7 , 9\n",
      "\t\t\t\t\t\t   Mark 4       :  35 , 37\n",
      "\t\t\t\t\t\t   Mark 5       :  3 , 5\n",
      "\t\t\t\t\t\t   Mark 5       :  7 , 9\n",
      "\t\t\t\t\t\t   Mark 5       :  25 , 27\n",
      "\t\t\t\t\t\t   Mark 6       :  17 , 19\n",
      "\t\t\t\t\t\t   Mark 6       :  35 , 37\n",
      "\t\t\t\t\t\t   Mark 7       :  25 , 27\n",
      "\t\t\t\t\t\t   Mark 8       :  8 , 10\n",
      "\t\t\t\t\t\t   Mark 9       :  5 , 7\n",
      "\t\t\t\t\t\t   Mark 11      :  1 , 3\n",
      "\t\t\t\t\t\t   Mark 15      :  42 , 44\n",
      "\t\t\t\t\t\t   Luke 1       :  1 , 3\n",
      "\t\t\t\t\t\t   Luke 2       :  29 , 31\n",
      "\t\t\t\t\t\t   Luke 8       :  28 , 30\n",
      "\t\t\t\t\t\t   Luke 9       :  30 , 32\n",
      "\t\t\t\t\t\t   Luke 16      :  20 , 22\n",
      "\t\t\t\t\t\t   Luke 23      :  44 , 46\n",
      "\t\t\t\t\t\t   Luke 23      :  50 , 52\n",
      "\t\t\t\t\t\t   John 1       :  32 , 34\n",
      "\t\t\t\t\t\t   John 4       :  7 , 9\n",
      "\t\t\t\t\t\t   John 10      :  14 , 16\n",
      "\t\t\t\t\t\t   John 12      :  10 , 12\n",
      "\t\t\t\t\t\t   Acts 2       :  10 , 12\n",
      "\t\t\t\t\t\t   Acts 2       :  30 , 32\n",
      "\t\t\t\t\t\t   Acts 2       :  34 , 36\n",
      "\t\t\t\t\t\t   Acts 3       :  17 , 19\n",
      "\t\t\t\t\t\t   Acts 4       :  32 , 34\n",
      "\t\t\t\t\t\t   Acts 4       :  34 , 36\n",
      "\t\t\t\t\t\t   Acts 5       :  5 , 7\n",
      "\t\t\t\t\t\t   Acts 8       :  1 , 4\n",
      "\t\t\t\t\t\t   Acts 8       :  15 , 18\n",
      "\t\t\t\t\t\t   Acts 8       :  27 , 29\n",
      "\t\t\t\t\t\t   Acts 9       :  1 , 3\n",
      "\t\t\t\t\t\t   Acts 9       :  28 , 30\n",
      "\t\t\t\t\t\t   Acts 10      :  44 , 47\n",
      "\t\t\t\t\t\t   Acts 11      :  23 , 25\n",
      "\t\t\t\t\t\t   Acts 13      :  4 , 6\n",
      "\t\t\t\t\t\t   Acts 13      :  40 , 42\n",
      "\t\t\t\t\t\t   Acts 14      :  2 , 4\n",
      "\t\t\t\t\t\t   Acts 23      :  12 , 14\n",
      "\t\t\t\t\t\t   Acts 28      :  10 , 12\n",
      "\t\t\t\t\t\t   Romans 9     :  11 , 13\n",
      "\t\t\t\t\t\t   Romans 16    :  23 , 25\n",
      "\t\t\t\t\t\t   Galatians 4  :  12 , 14\n",
      "\t\t\t\t\t\t   Ephesians 1  :  19 , 21\n",
      "\t\t\t\t\t\t   Ephesians 6  :  21 , 23\n",
      "\t\t\t\t\t\t   1 Timothy 2  :  9 , 11\n",
      "\t\t\t\t\t\t   Hebrews 3    :  3 , 5\n",
      "\t\t\t\t\t\t   Hebrews 6    :  4 , 7\n",
      "\t\t\t\t\t\t   Hebrews 11   :  17 , 19\n",
      "\t\t\t\t\t\t   James 1      :  7 , 9\n",
      "\t\t\t\t\t\t   2 Peter 2    :  7 , 9\n",
      "\t\t\t\t\t\t   1 John 3     :  19 , 21\n",
      "\t\t\t\t\t\t   Revelation 1 :  4 , 7\n"
     ]
    }
   ],
   "source": [
    "verseNum = re.compile(r'(?:\\s+)[0-9]+\\s+')\n",
    "\n",
    "# Open all .txt files that contain the transcription of the New Testament\n",
    "for file in glob.glob('../Data/txt/*.txt'):\n",
    "    with open(file, 'r', encoding='utf-8') as f:\n",
    "        # Each line is a chapter\n",
    "        for line in f:\n",
    "            allInWhite = verseNum.findall(line[20:])\n",
    "            versesList = [p.strip() for p in allInWhite[:]]\n",
    "#             print(versesList)\n",
    "            verseIndex = 0\n",
    "            for num in versesList:\n",
    "                # monotone increasing, this is expected behavior\n",
    "                if int(num) == (verseIndex + 1):\n",
    "                    verseIndex += 1\n",
    "                    continue\n",
    "                # jump bigger than 3, this is a number mentioned as part of the text\n",
    "                if int(num) > (verseIndex + 3):\n",
    "                    continue\n",
    "                # smaller number is also part of the text\n",
    "                # verseIndex 0 gives jumps of 2/3 because regex erroneously picks up \n",
    "                # chapter number in some cases\n",
    "                if int(num) <= verseIndex or verseIndex == 0:\n",
    "                    continue\n",
    "                \n",
    "                # Merged verses\n",
    "                print(line[:21], \": \", verseIndex, \",\", num)\n",
    "\n",
    "                verseIndex = int(num)             \n",
    "                "
   ]
  },
  {
   "cell_type": "code",
   "execution_count": null,
   "metadata": {},
   "outputs": [],
   "source": []
  }
 ],
 "metadata": {
  "kernelspec": {
   "display_name": "Python 3",
   "language": "python",
   "name": "python3"
  },
  "language_info": {
   "codemirror_mode": {
    "name": "ipython",
    "version": 3
   },
   "file_extension": ".py",
   "mimetype": "text/x-python",
   "name": "python",
   "nbconvert_exporter": "python",
   "pygments_lexer": "ipython3",
   "version": "3.7.1"
  }
 },
 "nbformat": 4,
 "nbformat_minor": 2
}
