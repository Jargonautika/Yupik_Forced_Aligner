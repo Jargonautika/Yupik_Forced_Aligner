{
 "cells": [
  {
   "cell_type": "code",
   "execution_count": 1,
   "metadata": {},
   "outputs": [],
   "source": [
    "import pandas as pd"
   ]
  },
  {
   "cell_type": "code",
   "execution_count": 2,
   "metadata": {},
   "outputs": [],
   "source": [
    "df = pd.read_csv('audioStats.csv')"
   ]
  },
  {
   "cell_type": "code",
   "execution_count": 3,
   "metadata": {},
   "outputs": [],
   "source": [
    "header = list(df.columns)[3:]\n",
    "header.sort()"
   ]
  },
  {
   "cell_type": "code",
   "execution_count": 4,
   "metadata": {},
   "outputs": [],
   "source": [
    "times = dict()\n",
    "for item in header:\n",
    "    times[item] = df[item][1]"
   ]
  },
  {
   "cell_type": "code",
   "execution_count": 5,
   "metadata": {},
   "outputs": [
    {
     "name": "stdout",
     "output_type": "stream",
     "text": [
      "There are 106926.62282299998 seconds in the entire corpus.\n",
      "This is approximately 29.701839673055552 hours.\n"
     ]
    }
   ],
   "source": [
    "totalTime = 0\n",
    "for item in times:\n",
    "    totalTime += times[item]\n",
    "    \n",
    "print('There are', totalTime, 'seconds in the entire corpus.\\nThis is approximately', totalTime/3600, 'hours.')"
   ]
  },
  {
   "cell_type": "code",
   "execution_count": 6,
   "metadata": {},
   "outputs": [],
   "source": [
    "Training = list() # 80%-ish of the data\n",
    "\n",
    "trainingCount = 0\n",
    "usedUp = list()\n",
    "remainder = list()\n",
    "\n",
    "for item in times:\n",
    "    if trainingCount < totalTime * .8:\n",
    "        Training.append(item)\n",
    "        trainingCount += times[item]\n",
    "        usedUp.append(item)\n",
    "    \n",
    "    else:\n",
    "        remainder.append(item)\n"
   ]
  },
  {
   "cell_type": "code",
   "execution_count": 7,
   "metadata": {},
   "outputs": [],
   "source": [
    "Dev = list() # 10%-ish of the data\n",
    "Test = list() # 10%-ish of the datatrainingCount = 0\n",
    "\n",
    "trainingCount1 = 0\n",
    "usedUp1 = list()\n",
    "\n",
    "for item in remainder:\n",
    "    if trainingCount1 < totalTime * .1:\n",
    "        Dev.append(item)\n",
    "        trainingCount1 += times[item]\n",
    "        usedUp1.append(item)\n",
    "        \n",
    "    else:\n",
    "        Test.append(item)\n"
   ]
  },
  {
   "cell_type": "code",
   "execution_count": 11,
   "metadata": {},
   "outputs": [
    {
     "name": "stdout",
     "output_type": "stream",
     "text": [
      "trainingTime: \t 0.8009075920480597\n",
      "devTime: \t 0.10231906844294968\n",
      "testTime: \t 0.09677333950899099\n",
      "1.0000000000000002 % of the data accounted for.\n"
     ]
    }
   ],
   "source": [
    "trainingTime = 0\n",
    "for item in Training:\n",
    "    trainingTime += df[item][1]\n",
    "print('trainingTime:', '\\t', trainingTime / totalTime)\n",
    "\n",
    "devTime = 0\n",
    "for item in Dev:\n",
    "    devTime += df[item][1]\n",
    "print('devTime:', '\\t', devTime / totalTime)\n",
    "\n",
    "testTime = 0\n",
    "for item in Test:\n",
    "    testTime += df[item][1]\n",
    "print('testTime:', '\\t', testTime / totalTime)\n",
    "\n",
    "print((trainingTime + devTime + testTime)/totalTime, '% of the data accounted for.')"
   ]
  },
  {
   "cell_type": "code",
   "execution_count": 26,
   "metadata": {},
   "outputs": [],
   "source": [
    "dfLen = len(df)\n",
    "outList = ['Development Tag', '', '']\n",
    "\n",
    "for item in df.columns:\n",
    "    if item in Training:\n",
    "        outList.append('Training')\n",
    "    elif item in Dev:\n",
    "        outList.append('Dev')\n",
    "    else:\n",
    "        outList.append('Test')"
   ]
  },
  {
   "cell_type": "code",
   "execution_count": 29,
   "metadata": {},
   "outputs": [
    {
     "name": "stdout",
     "output_type": "stream",
     "text": [
      "266\n"
     ]
    }
   ],
   "source": [
    "print(len(outList))"
   ]
  },
  {
   "cell_type": "code",
   "execution_count": null,
   "metadata": {},
   "outputs": [],
   "source": []
  }
 ],
 "metadata": {
  "kernelspec": {
   "display_name": "Python 3",
   "language": "python",
   "name": "python3"
  },
  "language_info": {
   "codemirror_mode": {
    "name": "ipython",
    "version": 3
   },
   "file_extension": ".py",
   "mimetype": "text/x-python",
   "name": "python",
   "nbconvert_exporter": "python",
   "pygments_lexer": "ipython3",
   "version": "3.6.5"
  }
 },
 "nbformat": 4,
 "nbformat_minor": 2
}
